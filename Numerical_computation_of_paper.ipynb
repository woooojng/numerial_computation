{
 "cells": [
  {
   "cell_type": "markdown",
   "metadata": {},
   "source": [
    "A_settings.h;\n",
    "variables that controls the basic settings for the simulation."
   ]
  },
  {
   "cell_type": "markdown",
   "metadata": {},
   "source": [
    "##Select Model and Scheme"
   ]
  },
  {
   "cell_type": "code",
   "execution_count": 1,
   "metadata": {},
   "outputs": [],
   "source": [
    "modelNo = 0\n",
    "timeMethod = 4 #comment"
   ]
  },
  {
   "cell_type": "markdown",
   "metadata": {},
   "source": [
    "##Scheme Specifications"
   ]
  },
  {
   "cell_type": "code",
   "execution_count": 2,
   "metadata": {},
   "outputs": [],
   "source": [
    "numDivision = 200 #numDivision : Number of space divisions in both x and p directions\n",
    "numTimeStep = 40000 #numTimeStep : Number of time steps\n",
    "Dt = 0.5 #Dt : Size of one time step"
   ]
  },
  {
   "cell_type": "code",
   "execution_count": 3,
   "metadata": {},
   "outputs": [],
   "source": [
    "finalTime = numTimeStep * Dt"
   ]
  },
  {
   "cell_type": "markdown",
   "metadata": {},
   "source": [
    "##Settings"
   ]
  },
  {
   "cell_type": "markdown",
   "metadata": {},
   "source": [
    "#comment"
   ]
  },
  {
   "cell_type": "code",
   "execution_count": 4,
   "metadata": {},
   "outputs": [],
   "source": [
    "numMountain = 1"
   ]
  },
  {
   "cell_type": "code",
   "execution_count": 5,
   "metadata": {},
   "outputs": [],
   "source": [
    "aveSolnFreq_T = 32 #commet for two mountain\n",
    "aveSolnFreq_q = -1\n",
    "aveSolnFreq_u = 1\n",
    "aveSolnFreq_w = -1\n",
    "aveSolnFreq_phix = -1"
   ]
  },
  {
   "cell_type": "code",
   "execution_count": 6,
   "metadata": {},
   "outputs": [],
   "source": [
    "numProgMsg = 200\n",
    "movieFrameFreq = 500\n",
    "calcL2NormFreq = 500"
   ]
  },
  {
   "cell_type": "code",
   "execution_count": 7,
   "metadata": {},
   "outputs": [],
   "source": [
    "movieFramesFolderName = \"MovieFrames\" #string in C++"
   ]
  },
  {
   "cell_type": "code",
   "execution_count": 8,
   "metadata": {},
   "outputs": [],
   "source": [
    "##Boolean in C++\n",
    "_printResultToFile_ = 1\n",
    "_printExactSolnToFile_ = 0\n",
    "_useCompatibleInitQ_ = 0\n",
    "_enforceTopBC_ = 0"
   ]
  },
  {
   "cell_type": "markdown",
   "metadata": {},
   "source": [
    "Validate Parameters"
   ]
  },
  {
   "cell_type": "code",
   "execution_count": 9,
   "metadata": {},
   "outputs": [],
   "source": [
    "#void validateProgramParameters() {\n",
    "# \tif (movieFrameFreq <= 0)    movieFrameFreq   = numTimeStep + 1;  // Do not print movie frames\n",
    "# ...\n",
    "# }\n",
    "#comment ? How can I deal with this void function in python"
   ]
  },
  {
   "cell_type": "code",
   "execution_count": 10,
   "metadata": {},
   "outputs": [],
   "source": [
    "import numpy as np"
   ]
  },
  {
   "cell_type": "code",
   "execution_count": 11,
   "metadata": {},
   "outputs": [],
   "source": [
    "if movieFrameFreq <= 0:\n",
    "    movieFrameFreq   = numTimeStep + 1 #comment ? Do not print movie frames\n",
    "if calcL2NormFreq <= 0:\n",
    "    calcL2NormFreq   = numTimeStep + 1 #comment ? Do not calculate and show L2 errors\n",
    "if aveSolnFreq_T <= 0:\n",
    "    aveSolnFreq_T    = numTimeStep + 1\n",
    "if aveSolnFreq_q <= 0:\n",
    "    aveSolnFreq_q    = numTimeStep + 1\n",
    "if aveSolnFreq_u <= 0:\n",
    "    aveSolnFreq_u    = numTimeStep + 1\n",
    "if aveSolnFreq_w <= 0:\n",
    "    aveSolnFreq_w    = numTimeStep + 1\n",
    "if aveSolnFreq_phix <= 0:\n",
    "    aveSolnFreq_phix = numTimeStep + 1\n",
    "if numMountain != 1 and numMountain != 2:\n",
    "    printf(\">> ! Number of mountains is not set correctly. Using default value of 1 mountain.\\n\")\n",
    "    numMountain = 1\n",
    "if modelNo == 1:\n",
    "    numMountain = 1"
   ]
  },
  {
   "cell_type": "markdown",
   "metadata": {},
   "source": [
    "B_Constants ; constants and common functions used in mathematical and physical settings. Also included are common functions used in testing."
   ]
  },
  {
   "cell_type": "markdown",
   "metadata": {},
   "source": [
    "##Mathematical and Physical Constants"
   ]
  },
  {
   "cell_type": "code",
   "execution_count": 12,
   "metadata": {},
   "outputs": [],
   "source": [
    "# Import math Library to get pi constant as 'math.pi'\n",
    "import math"
   ]
  },
  {
   "cell_type": "code",
   "execution_count": 13,
   "metadata": {},
   "outputs": [],
   "source": [
    "# Mathematical constants\n",
    "TWO_PI = 2 * math.pi\n",
    "ONE_THIRD = 1. / 3.\n",
    "ONE_SIXTH = 1. / 6"
   ]
  },
  {
   "cell_type": "code",
   "execution_count": 14,
   "metadata": {},
   "outputs": [],
   "source": [
    "# Physical constants, defined on page 100\n",
    "R_CONST = 287.0\n",
    "Rv_CONST = 461.50\n",
    "Cp_CONST = 1004.0\n",
    "g_CONST = 9.8\n",
    "p0_CONST = 1000.0\n",
    "p0Inv_CONST = 0.001"
   ]
  },
  {
   "cell_type": "code",
   "execution_count": 15,
   "metadata": {},
   "outputs": [],
   "source": [
    "# Physical constants used in the physical case, defined on page 115\n",
    "T0_CONST = 300.\n",
    "DeltaT_CONST = 50."
   ]
  },
  {
   "cell_type": "code",
   "execution_count": 16,
   "metadata": {},
   "outputs": [],
   "source": [
    "# For convenience\n",
    "halfDt = 0.5 * Dt\n",
    "oneSixthDt = Dt / 6.0"
   ]
  },
  {
   "cell_type": "markdown",
   "metadata": {},
   "source": [
    "Predefined Functions"
   ]
  },
  {
   "cell_type": "markdown",
   "metadata": {},
   "source": [
    "##Mathematical Functions"
   ]
  },
  {
   "cell_type": "markdown",
   "metadata": {},
   "source": [
    "#Returns the sign of a number"
   ]
  },
  {
   "cell_type": "code",
   "execution_count": 17,
   "metadata": {},
   "outputs": [],
   "source": [
    "def sgn_fcn(x):\n",
    "    if x == 1:\n",
    "        return x > 0\n",
    "    elif x == -1:\n",
    "        return x < 0\n",
    "    else:\n",
    "        return 0\n",
    "##The final value of function sgn_fcn(x) is True or False "
   ]
  },
  {
   "cell_type": "code",
   "execution_count": 18,
   "metadata": {},
   "outputs": [],
   "source": [
    "# double sgn_fcn(double x) { return x > 0 ? 1 : (x < 0 ? -1 : 0); } //a?b:c <- a if b, otherwise, c\n",
    "# int sgn_fcn(int x) { return x > 0 ? 1 : (x < 0 ? -1 : 0); }\n",
    "#Comment?? The difference between double sgn_fcn and int sgn_fcn ;\n",
    "#Answer : Maybe it is because we want to define various variable x and tis function\n",
    "#Then, why do we need to define in different ways?"
   ]
  },
  {
   "cell_type": "code",
   "execution_count": 19,
   "metadata": {},
   "outputs": [
    {
     "data": {
      "text/plain": [
       "True"
      ]
     },
     "execution_count": 19,
     "metadata": {},
     "output_type": "execute_result"
    }
   ],
   "source": [
    "x = -1\n",
    "sgn_fcn(x)"
   ]
  },
  {
   "cell_type": "markdown",
   "metadata": {},
   "source": [
    "Comment?? ;\n",
    "sgn_fcn(x) is constant 1 on computing with other constant when it turns out the \"True\""
   ]
  },
  {
   "cell_type": "code",
   "execution_count": 20,
   "metadata": {},
   "outputs": [],
   "source": [
    "# Placeholder for a solution function"
   ]
  },
  {
   "cell_type": "code",
   "execution_count": 21,
   "metadata": {},
   "outputs": [],
   "source": [
    "def zero_fcn(x, p, t):\n",
    "        return 0"
   ]
  },
  {
   "cell_type": "markdown",
   "metadata": {},
   "source": [
    "## Physical Functions"
   ]
  },
  {
   "cell_type": "markdown",
   "metadata": {},
   "source": [
    "#Saturation specific humidity function. Used in the initial condition for q"
   ]
  },
  {
   "cell_type": "code",
   "execution_count": 22,
   "metadata": {},
   "outputs": [],
   "source": [
    "def qs_fcn(T, p): \n",
    "\treturn 3.801664 / p * exp(17.67 * (T - 273.15) / (T - 29.65))\n",
    "#Leading coefficient is 0.622 * 6.112"
   ]
  },
  {
   "cell_type": "markdown",
   "metadata": {},
   "source": [
    "#Delta function defined on p.100, line 10-15"
   ]
  },
  {
   "cell_type": "code",
   "execution_count": 23,
   "metadata": {},
   "outputs": [],
   "source": [
    "def delta_fcn(q, w, qsVal):\n",
    "\treturn 0.25 * (1 - sgn_fcn(w)) * (1 + sgn_fcn(q - qsVal))"
   ]
  },
  {
   "cell_type": "code",
   "execution_count": 24,
   "metadata": {},
   "outputs": [],
   "source": [
    "#L function defined on p.100, line 15-20"
   ]
  },
  {
   "cell_type": "code",
   "execution_count": 25,
   "metadata": {},
   "outputs": [],
   "source": [
    "def L_fcn( T): # // @suppress(\"Name convention for function\")\n",
    "\treturn 2.5008e6 - 2.3e3 * (T - 275.)"
   ]
  },
  {
   "cell_type": "code",
   "execution_count": 26,
   "metadata": {},
   "outputs": [],
   "source": [
    "# F function defined in (2.2) on p.100"
   ]
  },
  {
   "cell_type": "code",
   "execution_count": 27,
   "metadata": {},
   "outputs": [],
   "source": [
    "def F_fcn(T, qsVal, LVal): # @suppress(\"Name convention for function\")\n",
    "\treturn qsVal * T * (LVal * R_CONST - Cp_CONST * Rv_CONST * T) / (Cp_CONST * Rv_CONST * T * T + qsVal * LVal * LVal)"
   ]
  },
  {
   "cell_type": "markdown",
   "metadata": {},
   "source": [
    "##Empty Placeholder Functions"
   ]
  },
  {
   "cell_type": "code",
   "execution_count": 28,
   "metadata": {},
   "outputs": [],
   "source": [
    "# void empty_fcn() { }\n",
    "# void empty_fcn(int x) { }  // Used by aveSoln_fptr\n",
    "# void empty_fcn(double x) { }"
   ]
  },
  {
   "cell_type": "code",
   "execution_count": 29,
   "metadata": {},
   "outputs": [],
   "source": [
    "##Testing Functions"
   ]
  },
  {
   "cell_type": "code",
   "execution_count": 30,
   "metadata": {},
   "outputs": [],
   "source": [
    "##Comment for the following coding;\n",
    "## Goal 1 : Find the corresponding coding in python w.r.t. \"clock_t start\" and \"clock_t end\".\n",
    "## Goal 2 : What is 'CLOCKS_PER_SEC' ? and 'msg.c_str', 'timeUsed'\n",
    "# /**\n",
    "#  * Testing Functions\n",
    "#  */\n",
    "\n",
    "# void printTimeUsed(clock_t start, clock_t end, string msg) {\n",
    "# \tdouble timeUsed = ((double) (end - start)) / CLOCKS_PER_SEC;\n",
    "# \tprintf(\"- %s Time used = %1.2fs.\\n\", msg.c_str(), timeUsed);\n",
    "# }\n",
    "\n",
    "# void printTimeUsed(clock_t start, clock_t end, string unit, string msg) {\n",
    "# \tdouble timeUsed = ((double) (end - start)) / CLOCKS_PER_SEC;\n",
    "# \tif (unit == \"s\")\n",
    "# \t\tprintf(\"- %s Time used = %1.2fs.\\n\", msg.c_str(), timeUsed);\n",
    "# \telse if (unit == \"ms\")\n",
    "# \t\tprintf(\"- %s Time used = %1.2fms.\\n\", msg.c_str(), timeUsed * 1000);\n",
    "# \telse\n",
    "# \t\tprintf(\"Error: Wrong unit || In printTimeUsed with message %s\\n\", msg.c_str());\n",
    "# }\n",
    "\n",
    "# // Print out messages for testing purposes\n",
    "# void ttt() { printf(\"\\n===== ===== ===== ===== ===== \\n>> The program passed here.\\n\"); printf(\"===== ===== ===== ===== =====\\n\"); }\n",
    "# void ioWarning() { printf(\"\\nThis function made a file I/O operation!\\n\"); };\n",
    "# void ioWarning(string fcn_name) { printf(\"\\nThis function %s made a file I/O operation!\\n\", fcn_name.c_str()); };\n"
   ]
  },
  {
   "cell_type": "code",
   "execution_count": 31,
   "metadata": {},
   "outputs": [],
   "source": [
    "##C_Models ; functions and global variables that determines different PDE models."
   ]
  },
  {
   "cell_type": "code",
   "execution_count": 32,
   "metadata": {},
   "outputs": [],
   "source": [
    "##Geometry of the Domain"
   ]
  },
  {
   "cell_type": "code",
   "execution_count": 33,
   "metadata": {},
   "outputs": [],
   "source": [
    "## * Model 0: Physical Model"
   ]
  },
  {
   "cell_type": "code",
   "execution_count": 34,
   "metadata": {},
   "outputs": [],
   "source": [
    "## * Coefficients"
   ]
  },
  {
   "cell_type": "code",
   "execution_count": 35,
   "metadata": {},
   "outputs": [],
   "source": [
    "## Coefficients used in the model\n",
    "# double _h_pB_MDL0, _h2_pB_MDL0, _c_pBxDer_MDL0, _c2_pBxDer_MDL0, _n_initU_MDL0, _cp_initU_MDL0, _cx_initU_MDL0;\n",
    "\n",
    "# Set values to the coefficients defined in this section\n",
    "# Coefficients need to be initialized here, because some of them depend on x0, xf, etc\n",
    "#void setFcnCoef_MDL0() \n",
    "_h_pB_MDL0 = 250.  # Multiplicative factor that controls the height of mountain\n",
    "_h2_pB_MDL0 = 200.\n",
    "_c_pBxDer_MDL0 = _h_pB_MDL0 / 1.8e7 # heightFactor * 2 / 6000^2\n",
    "_c2_pBxDer_MDL0 = _h2_pB_MDL0 / 1.8e7 # heightFactor * 2 / 6000^2\n",
    "\n",
    "_n_initU_MDL0 = 1.   # n in (4.10)\n",
    "_cp_initU_MDL0 = math.pi / p0_CONST   # Coefficient for p in (4.10)\n",
    "def _cx_initU_MDL0(xf):\n",
    "    return 2.0 * _n_initU_MDL0 * math.pi / xf  # Coefficient for x in (4.10)\n",
    "# !!change variable _cx_initU_MDL0 -> _cx_initU_MDL0(xf)\n"
   ]
  },
  {
   "cell_type": "markdown",
   "metadata": {},
   "source": [
    "What is the xf for the physical model?"
   ]
  },
  {
   "cell_type": "code",
   "execution_count": null,
   "metadata": {},
   "outputs": [],
   "source": [
    "########################  Domain geometry\n",
    "# pB function from TIME DISCRETIZATION OF A QUASI-VARIATIONAL INEQUALITY\n",
    "#  pB function"
   ]
  },
  {
   "cell_type": "code",
   "execution_count": 55,
   "metadata": {},
   "outputs": [
    {
     "ename": "IndentationError",
     "evalue": "unindent does not match any outer indentation level (<tokenize>, line 6)",
     "output_type": "error",
     "traceback": [
      "\u001b[1;36m  File \u001b[1;32m\"<tokenize>\"\u001b[1;36m, line \u001b[1;32m6\u001b[0m\n\u001b[1;33m    else:\u001b[0m\n\u001b[1;37m    ^\u001b[0m\n\u001b[1;31mIndentationError\u001b[0m\u001b[1;31m:\u001b[0m unindent does not match any outer indentation level\n"
     ]
    }
   ],
   "source": [
    "## ???\n",
    "def pB_fcn_MDL0(x):\n",
    "\t## Original 1 mountain problem\n",
    "\tif numMountain == 1:\n",
    "\t\tterm = x - 37500.\n",
    "\t\treturn 1000. - _h_pB_MDL0 * exp(-term * term / 3.6e7)\n",
    "    else:\n",
    "        ## 2 mountains(Left mountain is higher than the right mountain.)\n",
    "        term = x - 37500., h = _h_pB_MDL0\n",
    "        if x > 75000:\n",
    "            term = x - 112500.\n",
    "            h = _h2_pB_MDL0\n",
    "        return 1000. - h * exp(-term * term / 3.6e7)\n",
    "\n",
    "## Derivative of pB function - from simple computation\n",
    "def pBxDer_fcn_MDL0(x):\n",
    "\t##Original 1 mountain problem\n",
    "\tif numMountain == 1:\n",
    "\t\tterm = x - 37500.\n",
    "\t\treturn _c_pBxDer_MDL0 * term * exp(-term * term / 3.6e7)\n",
    "\t\n",
    "\n",
    "\tterm = x - 37500., c = _c_pBxDer_MDL0\n",
    "\tif x > 75000:\n",
    "\t\tterm = x - 112500.\n",
    "\t\tc = _c2_pBxDer_MDL0\n",
    "\treturn c * term * exp(-term * term / 3.6e7)\n"
   ]
  },
  {
   "cell_type": "code",
   "execution_count": null,
   "metadata": {},
   "outputs": [],
   "source": [
    "######################### Initial Conditions\n",
   ]
  },
  {
   "cell_type": "code",
   "execution_count": null,
   "metadata": {},
   "outputs": [],
   "source": [
    "##???\n",
    "##Initial T function from (5.5)TIME DISCRETIZATION OF A QUASI-VARIATIONAL INEQUALITY\n",
    "\n",
    "## Initial T function\n",
    "def init_T_fcn_MDL0(x, p, t):\n",
    "\treturn T0_CONST - (1 - p / p0_CONST) * DeltaT_CONST ##deltaT_CONST is given value(50K)\n",
    "\n",
    "\n",
    "## Initial q function\n",
    "def init_q_fcn_MDL0(x, p, t):\n",
    "\tT = init_T_fcn_MDL0(x, p, 0):\n",
    "\tif (_useCompatibleInitQ_) {\n",
    "\t\tdouble x_sec = (xf - x0) * 0.1, reduction = x > (x0 + x_sec) ? 0.0052 : 0.0052 / (x_sec - x0) * (x - x0);\n",
    "\t\treturn qs_fcn(T, p) - reduction;\n",
    "\t}\n",
    "\treturn (qs_fcn(T, p) - 0.0052) / 2\n",
    "\n",
    "// Initial u function\n",
    "double init_u_fcn_MDL0(double x, double p, double t) {\n",
    "\treturn 7.5 + 2 * cos(_cp_initU_MDL0 * p) * cos(_cx_initU_MDL0 * x);\n",
    "}"
   ]
  },
  {
   "cell_type": "code",
   "execution_count": 58,
   "metadata": {},
   "outputs": [],
   "source": [
    "################## Source solutions\n",
    "\n",
    "## Source function for the T equation\n",
    "def source_T_fcn_MDL0(T, q, u, w, x, p, t):\n",
    "\tqsVal     = qs_fcn(T, p),\n",
    "\tdeltaVal = delta_fcn(q, w, qsVal),\n",
    "\tLVal     = L_fcn(T),\n",
    "\tFVal     = F_fcn(T, qsVal, LVal)\n",
    "\treturn w / (p * Cp_CONST) * (R_CONST * T - deltaVal * LVal * FVal)\n",
    "\n",
    "\n",
    "## Source function for the q equation\n",
    "def source_q_fcn_MDL0(T, q, u, w, x, p, t):\n",
    "\tqsVal     = qs_fcn(T, p),\n",
    "\tdeltaVal = delta_fcn(q, w, qsVal),\n",
    "\tLVal     = L_fcn(T),\n",
    "\tFVal     = F_fcn(T, qsVal, LVal)\n",
    "\treturn deltaVal * FVal * w / p\n",
    "\n",
    "\n",
    "## Source function for the u equation\n",
    "def source_u_fcn_MDL0(T, q, u, w, x, p, t):\n",
    "\treturn 0\n",
    "\n",
    "## Set all parameters in Model 1\n",
    "def setParam_MDL0():\n",
    "\t## Parameters for the domain geometry\n",
    "\tx0 = 0.\n",
    "\txf = 75000. * numMountain;  ##Changed...?\n",
    "\tpA = 250.\n",
    "\tpB_fptr = pB_fcn_MDL0 # ? &pB_fcn_MDL0\n",
    "\tpBxDer_fptr = pBxDer_fcn_MDL0 # ? &pBxDer_fcn_MDL0\n",
    "\t## Function coefficients\n",
    "\tsetFcnCoef_MDL0()\n",
    "\n"
   ]
  },
  {
   "cell_type": "code",
   "execution_count": 82,
   "metadata": {},
   "outputs": [],
   "source": [
    "\n",
    "#################### Test Case 1: Test Case from the Section 4.1\n",
    "\n",
    "############## Coefficients\n",
    "\n",
    "## Coefficients used in the model\n",
    "# double _xfCubed_MDL1, _xf6thPow_MDL1, _pBx0_MDL1;\n",
    "# double _c1_exT_MDL1, _c2_exT_MDL1, _c3_exT_MDL1, _c4_exT_MDL1;\n",
    "# double _c1_exU_MDL1, _c1_exUpDer_MDL1, _c1_exW_MDL1;\n",
    "\n",
    "def setFcnCoef_MDL1():\n",
    "\t_xfCubed_MDL1 = xf * xf * xf\n",
    "\t_xf6thPow_MDL1 = pow(xf, 6)\n",
    "\t_pBx0_MDL1 = (pB_fptr)(x0) ## pB(x0)\n",
    "\n",
    "\t_c1_exT_MDL1 = -1. / (g_CONST * _xfCubed_MDL1)\n",
    "\t_c2_exT_MDL1 = g_CONST / (150 * 450 * 450 * R_CONST)\n",
    "\t_c3_exT_MDL1 = DeltaT_CONST / p0_CONST\n",
    "\t_c4_exT_MDL1 = DeltaT_CONST - T0_CONST\n",
    "\n",
    "\t_c1_exU_MDL1 = -3e-12 / _xf6thPow_MDL1\n",
    "\t_c1_exUpDer_MDL1 = 2 * _c1_exU_MDL1\n",
    "\t_c1_exW_MDL1 = 3e-12 / _xf6thPow_MDL1\n",
    "\n",
    "\n",
    "############ Domain geometry\n",
    "\n",
    "## pB function\n",
    "def pB_fcn_MDL1(x):\n",
    "\tterm = x - 25000.\n",
    "\treturn 1000. - 200. * exp(-term * term / 9e6)\n",
    "\n",
    "\n",
    "## The derivative of pB function\n",
    "def pBxDer_fcn_MDL1(x):\n",
    "\tterm = x - 25000.\n",
    "\treturn term * exp(-term * term / 9e6) / 22500\n",
    "\n",
    "\n",
    "# /* ----- ----- ----- ----- ----- -----\n",
    "#  * Manufactured solutions / IC\n",
    "#  * ----- ----- ----- ----- ----- ----- */\n",
    "##(4.2)~(4.5) in the paper Numerical_simulation~\n",
    "## Exact T function excluding the t-term\n",
    "def exact_T_helper_fcn_MDL1(x, p):\n",
    "\treturn _c1_exT_MDL1 * x * pow(x - xf, 2) * (\n",
    "\t\t\tp * (_c2_exT_MDL1 * pow(p - pB_fcn_MDL1(x), 2) - _c3_exT_MDL1) + _c4_exT_MDL1\n",
    "\t)\n",
    "\n",
    "## Manufactured solution: exact T function\n",
    "def exact_T_fcn_MDL1(x, p, t):\n",
    "\treturn cos(TWO_PI * t) * exact_T_helper_fcn_MDL1(x, p)\n",
    "\n",
    "## x-derivative of the exact T function\n",
    "def exact_TxDer_fcn_MDL1(x, p, t, xf):\n",
    "\tx_minus_xf = x - xf,\n",
    "\tpB_minus_p = pB_fcn_MDL1(x) - p,\n",
    "\txPart1 = x * x_minus_xf * x_minus_xf,\n",
    "\txPart2 = p * (_c2_exT_MDL1 * pB_minus_p * pB_minus_p - _c3_exT_MDL1) + _c4_exT_MDL1\n",
    "\treturn _c1_exT_MDL1 * cos(TWO_PI * t) * (\n",
    "\t\t\t(3 * x - xf) * x_minus_xf * xPart2 +\n",
    "\t\t\txPart1 * (2 * _c2_exT_MDL1 * pB_minus_p * pBxDer_fcn_MDL1(x) * p)\n",
    "\t)\n",
    "\n",
    "\n",
    "## The p-derivative of the exact T function\n",
    "def exact_TpDer_fcn_MDL1(x, p, t):\n",
    "\tp_minus_pB = p - pB_fcn_MDL1(x)\n",
    "\treturn _c1_exT_MDL1 * cos(TWO_PI * t) * x * pow(x - xf, 2) * (\n",
    "\t\t\t_c2_exT_MDL1 * p_minus_pB * p_minus_pB - _c3_exT_MDL1 +\n",
    "\t\t\tp * _c2_exT_MDL1 * 2 * p_minus_pB\n",
    "\t)\n",
    "\n",
    "\n",
    "## The t-derivative of the exact T function\n",
    "def exact_TtDer_fcn_MDL1(x, p, t):\n",
    "\treturn -TWO_PI * sin(TWO_PI * t) * exact_T_helper_fcn_MDL1(x, p)\n",
    "\n",
    "## Manufactured solution: exact q function\n",
    "def exact_q_fcn_MDL1(x, p, t):\n",
    "\treturn exact_T_fcn_MDL1(x, p, t)\n",
    "\n",
    "\n",
    "## The terms in u that involves only x and p\n",
    "def exact_u_fcn_helper_MDL1(x, p):\n",
    "\tp_minus_pA = p - pA,\n",
    "\tp_minus_pB = p - pB_fcn_MDL1(x),\n",
    "\txTerm = x * (x - xf),\n",
    "\tpTerm = p_minus_pA * p_minus_pB\n",
    "\treturn _c1_exU_MDL1 * xTerm * xTerm * xTerm * pTerm * pTerm * (p_minus_pA + p_minus_pB);\n",
    "\n"
   ]
  },
  {
   "cell_type": "code",
   "execution_count": 22,
   "metadata": {},
   "outputs": [],
   "source": [
    "##(4.4-1) in paper Numerical~\n",
    "## Manufactured solution: exact u function\n",
    "def exact_U_fcn_MDL1(x,p, t):\n",
    "\treturn (cos(TWO_PI * t) + 20) * exact_u_fcn_helper_MDL1(x, p)\n",
    "\n",
    "\n",
    "## The x-derivative of the exact u function\n",
    "def exact_UxDer_fcn_MDL1(x, p, t):\n",
    "\tx_minus_xf = x - xf,\n",
    "\tp_minus_pA = p - pA,\n",
    "\tpB_minus_p = pB_fcn_MDL1(x) - p,\n",
    "\tpB_xDer_val = pBxDer_fcn_MDL1(x)\n",
    "\txPart1 = x * x * x,\n",
    "\txPart2 = x_minus_xf * x_minus_xf * x_minus_xf,\n",
    "\txPart3 = pB_minus_p * pB_minus_p,\n",
    "\txPart4 = p_minus_pA - pB_minus_p;\n",
    "\treturn _c1_exU_MDL1 * p_minus_pA * p_minus_pA * (cos(TWO_PI * t) + 20) * (\n",
    "\t\t\t3 * x * x * xPart2 * xPart3 * xPart4\n",
    "\t\t\t+ xPart1 * 3 * x_minus_xf * x_minus_xf * xPart3 * xPart4\n",
    "\t\t\t+ xPart1 * xPart2 * 2 * pB_minus_p * pB_xDer_val * xPart4\n",
    "\t\t\t- xPart1 * xPart2 * xPart3 * pB_xDer_val\n",
    "\t)\n",
    "\n",
    "\n",
    "## The p-derivative of the exact u function\n",
    "def exact_UpDer_fcn_MDL1(x, p, t):\n",
    "\tx_minus_xf = x - xf,\n",
    "\tp_minus_pA = p - pA,\n",
    "\tp_minus_pB = p - pB_fcn_MDL1(x),\n",
    "\tp_sum_part = p_minus_pA + p_minus_pB,\n",
    "\tp_prod_part = p_minus_pA * p_minus_pB\n",
    "\treturn _c1_exUpDer_MDL1 * pow(x * x_minus_xf, 3) * (\n",
    "\t\t\tcos(TWO_PI * t) + 20) * p_prod_part * (p_sum_part * p_sum_part + p_prod_part)\n",
    "\n",
    "\n",
    "## The t-derivative of the exact u function\n",
    "def exact_UtDer_fcn_MDL1(x, p, t):\n",
    "\treturn -TWO_PI * sin(TWO_PI * t) * exact_u_fcn_helper_MDL1(x, p)\n",
    "\n",
    "\n",
    "## Manufactured solution: exact w function\n",
    "def exact_W_fcn_MDL1(x, p, t):\n",
    "\txPart1 = x * (x - xf),\n",
    "\tp_minus_pB = p - pB_fcn_MDL1(x)\n",
    "\treturn _c1_exW_MDL1 * pow(p - pA, 3) * (\n",
    "\t\t\tcos(TWO_PI * t) + 20) * xPart1 * xPart1 * p_minus_pB * p_minus_pB * (\n",
    "\t\t\t\t\tp_minus_pB * (2 * x - xf) - pBxDer_fcn_MDL1(x) * xPart1\n",
    "\t\t\t)\n",
    "\n",
    "\n",
    "## The p-derivative of the exact w function\n",
    "def exact_WpDer_fcn_MDL1(x, p, t):\n",
    "\txTerm = x * (x - xf),\n",
    "\tp_minus_pB = p - pB_fcn_MDL1(x),\n",
    "\tp_minus_pA = p - pA,\n",
    "\ttwo_x_minus_xf = 2 * x - xf\n",
    "\tpPart1 = pow(p_minus_pA, 3),\n",
    "\tpPart2 = p_minus_pB * p_minus_pB,\n",
    "\tpPart3 = p_minus_pB * two_x_minus_xf - pBxDer_fcn_MDL1(x) * xTerm\n",
    "\treturn _c1_exW_MDL1 * xTerm * xTerm * (cos(TWO_PI * t) + 20) * (\n",
    "\t\t\t3 * p_minus_pA * p_minus_pA * pPart2 * pPart3\n",
    "\t\t\t+ pPart1 * 2 * p_minus_pB * pPart3\n",
    "\t\t\t+ pPart1 * pPart2 * two_x_minus_xf\n",
    "\t)\n",
    "\n"
   ]
  },
  {
   "cell_type": "code",
   "execution_count": null,
   "metadata": {},
   "outputs": [],
   "source": [
    "######## Source solutions\n",
    "\n",
    "## Source function for the T equation\n",
    "def source_T_fcn_MDL1(T, q, u, w, x, p, t):\n",
    "\treturn exact_TtDer_fcn_MDL1(x, p, t)\n",
    "\t\t\t+ exact_U_fcn_MDL1(x, p, t) * exact_TxDer_fcn_MDL1(x, p, t)\n",
    "\t\t\t+ exact_W_fcn_MDL1(x, p, t) * exact_TpDer_fcn_MDL1(x, p, t)\n",
    "\n",
    "\n",
    "## Source function for the q equation\n",
    "def source_q_fcn_MDL1(T, q, u, w, x, p, t):\n",
    "\treturn source_T_fcn_MDL1(T, q, u, w, x, p, t)\n",
    "\n",
    "\n",
    "## Source function for the u equation\n",
    "def source_u_fcn_MDL1(T, q, u, w, x, p, t):\n",
    "\treturn exact_UtDer_fcn_MDL1(x, p, t)\n",
    "\t\t\t+ exact_U_fcn_MDL1(x, p, t) * exact_UxDer_fcn_MDL1(x, p, t)\n",
    "\t\t\t+ exact_W_fcn_MDL1(x, p, t) * exact_UpDer_fcn_MDL1(x, p, t)\n",
    "\n",
    "\n",
    "## Set all parameters in model 1\n",
    "def setParam_MDL1()\n",
    "\t## Parameters on the domain geometry\n",
    "\tx0 = 0.\n",
    "\txf = 50000.\n",
    "\tpA = 200.\n",
    "\tpB_fptr = pB_fcn_MDL1 ## ?? &pB_fcn_MDL1;\n",
    "\tpBxDer_fptr = pBxDer_fcn_MDL1 ## ?? &pBxDer_fcn_MDL1;\n",
    "\t## Set function coefficients\n",
    "\tsetFcnCoef_MDL1()\n",
    "\n",
    "\n",
    "\n"
   ]
  },
  {
   "cell_type": "code",
   "execution_count": 33,
   "metadata": {},
   "outputs": [],
   "source": [
    "def A():\n",
    "    return 10"
   ]
  },
  {
   "cell_type": "code",
   "execution_count": 37,
   "metadata": {},
   "outputs": [
    {
     "data": {
      "text/plain": [
       "(<function __main__.A()>, 10)"
      ]
     },
     "execution_count": 37,
     "metadata": {},
     "output_type": "execute_result"
    }
   ],
   "source": [
    "A, A()"
   ]
  },
  {
   "cell_type": "code",
   "execution_count": 39,
   "metadata": {},
   "outputs": [],
   "source": [
    "def Nx(): #Nx -> Nx() ??? Nx와 Nx() 이용 중 더 빠른 방법은?\n",
    "    ##Nx()는 numDivision을 결과값으로 가진다. \n",
    "    ##이때 Nx()는 numDivision없이도 정의가능 하지만 Nx = numDivision 로 바로 대입하는 경우는\n",
    "    ##numDivision에 미리 값을 대입해야 함\n",
    "    return numDivision"
   ]
  },
  {
   "cell_type": "code",
   "execution_count": 40,
   "metadata": {},
   "outputs": [
    {
     "ename": "NameError",
     "evalue": "name 'numDivision' is not defined",
     "output_type": "error",
     "traceback": [
      "\u001b[1;31m---------------------------------------------------------------------------\u001b[0m",
      "\u001b[1;31mNameError\u001b[0m                                 Traceback (most recent call last)",
      "\u001b[1;32m<ipython-input-40-4bb85356fea0>\u001b[0m in \u001b[0;36m<module>\u001b[1;34m\u001b[0m\n\u001b[1;32m----> 1\u001b[1;33m \u001b[0mNx\u001b[0m\u001b[1;33m(\u001b[0m\u001b[1;33m)\u001b[0m\u001b[1;33m\u001b[0m\u001b[1;33m\u001b[0m\u001b[0m\n\u001b[0m",
      "\u001b[1;32m<ipython-input-39-0453559b4b2a>\u001b[0m in \u001b[0;36mNx\u001b[1;34m()\u001b[0m\n\u001b[0;32m      1\u001b[0m \u001b[1;32mdef\u001b[0m \u001b[0mNx\u001b[0m\u001b[1;33m(\u001b[0m\u001b[1;33m)\u001b[0m\u001b[1;33m:\u001b[0m \u001b[1;31m#Nx -> Nx()\u001b[0m\u001b[1;33m\u001b[0m\u001b[1;33m\u001b[0m\u001b[0m\n\u001b[1;32m----> 2\u001b[1;33m     \u001b[1;32mreturn\u001b[0m \u001b[0mnumDivision\u001b[0m\u001b[1;33m\u001b[0m\u001b[1;33m\u001b[0m\u001b[0m\n\u001b[0m",
      "\u001b[1;31mNameError\u001b[0m: name 'numDivision' is not defined"
     ]
    }
   ],
   "source": [
    "Nx() ##아직 numDivision을 정의(??Intializing)하지 않았으므로 대응 되는 값이 없고 오류 나옴"
   ]
  },
  {
   "cell_type": "code",
   "execution_count": null,
   "metadata": {},
   "outputs": [],
   ]
  },
  {
   "cell_type": "code",
   "execution_count": 43,
   "metadata": {},
   "outputs": [
    {
     "ename": "NameError",
     "evalue": "name 'numDivision' is not defined",
     "output_type": "error",
     "traceback": [
      "\u001b[1;31m---------------------------------------------------------------------------\u001b[0m",
      "\u001b[1;31mNameError\u001b[0m                                 Traceback (most recent call last)",
      "\u001b[1;32m<ipython-input-43-cb6b57fe28da>\u001b[0m in \u001b[0;36m<module>\u001b[1;34m\u001b[0m\n\u001b[0;32m     21\u001b[0m \u001b[1;33m\u001b[0m\u001b[0m\n\u001b[0;32m     22\u001b[0m \u001b[1;31m## Following constants are set up for code readability\u001b[0m\u001b[1;33m\u001b[0m\u001b[1;33m\u001b[0m\u001b[1;33m\u001b[0m\u001b[0m\n\u001b[1;32m---> 23\u001b[1;33m \u001b[0mnumCellX\u001b[0m \u001b[1;33m=\u001b[0m \u001b[0mNx\u001b[0m\u001b[1;33m(\u001b[0m\u001b[1;33m)\u001b[0m \u001b[1;33m+\u001b[0m \u001b[1;36m2\u001b[0m \u001b[1;31m## Number of cells, x-direction\u001b[0m\u001b[1;33m\u001b[0m\u001b[1;33m\u001b[0m\u001b[0m\n\u001b[0m\u001b[0;32m     24\u001b[0m \u001b[0mnumCellP\u001b[0m \u001b[1;33m=\u001b[0m \u001b[0mNp\u001b[0m\u001b[1;33m(\u001b[0m\u001b[1;33m)\u001b[0m \u001b[1;33m+\u001b[0m \u001b[1;36m2\u001b[0m \u001b[1;31m## Number of cells, p-direction\u001b[0m\u001b[1;33m\u001b[0m\u001b[1;33m\u001b[0m\u001b[0m\n\u001b[0;32m     25\u001b[0m \u001b[0mlastRealIndexX\u001b[0m \u001b[1;33m=\u001b[0m \u001b[0mNx\u001b[0m\u001b[1;33m(\u001b[0m\u001b[1;33m)\u001b[0m \u001b[1;31m## Largest x-index of all non-ghost cells; deprecated\u001b[0m\u001b[1;33m\u001b[0m\u001b[1;33m\u001b[0m\u001b[0m\n",
      "\u001b[1;32m<ipython-input-43-cb6b57fe28da>\u001b[0m in \u001b[0;36mNx\u001b[1;34m()\u001b[0m\n\u001b[0;32m     16\u001b[0m \u001b[1;31m#  * ===== ===== ===== ===== ===== ===== ===== ===== ===== ===== ===== ===== ===== ===== ===== */\u001b[0m\u001b[1;33m\u001b[0m\u001b[1;33m\u001b[0m\u001b[1;33m\u001b[0m\u001b[0m\n\u001b[0;32m     17\u001b[0m \u001b[1;32mdef\u001b[0m \u001b[0mNx\u001b[0m\u001b[1;33m(\u001b[0m\u001b[1;33m)\u001b[0m\u001b[1;33m:\u001b[0m \u001b[1;31m#Nx -> Nx()\u001b[0m\u001b[1;33m\u001b[0m\u001b[1;33m\u001b[0m\u001b[0m\n\u001b[1;32m---> 18\u001b[1;33m     \u001b[1;32mreturn\u001b[0m \u001b[0mnumDivision\u001b[0m \u001b[1;31m## Number of space divisions, x-direction\u001b[0m\u001b[1;33m\u001b[0m\u001b[1;33m\u001b[0m\u001b[0m\n\u001b[0m\u001b[0;32m     19\u001b[0m \u001b[1;32mdef\u001b[0m \u001b[0mNp\u001b[0m\u001b[1;33m(\u001b[0m\u001b[1;33m)\u001b[0m\u001b[1;33m:\u001b[0m\u001b[1;33m\u001b[0m\u001b[1;33m\u001b[0m\u001b[0m\n\u001b[0;32m     20\u001b[0m     \u001b[1;32mreturn\u001b[0m \u001b[0mnumDivision\u001b[0m \u001b[1;31m## Number of space divisions, p-direction\u001b[0m\u001b[1;33m\u001b[0m\u001b[1;33m\u001b[0m\u001b[0m\n",
      "\u001b[1;31mNameError\u001b[0m: name 'numDivision' is not defined"
     ]
    }
   ],
   "source": [
    "### /*\n",
    "#   D_Mesh.h\n",
    "#  \n",
    "#  Created on: Oct 11, 2017\n",
    "#     Author: chuckjia\n",
    "#########  This file contains global variables and functions that store and build mesh of the physical domain.\n",
    "\n",
    "#ifndef D_MESH_H_\n",
    "#define D_MESH_H_\n",
    "#include \"C_Models.h\"\n",
    "\n",
    "# /* ===== ===== ===== ===== ===== ===== ===== ===== ===== ===== ===== ===== ===== ===== =====\n",
    "#  * Mesh Constants: Auto-generated\n",
    "#  * ===== ===== ===== ===== ===== ===== ===== ===== ===== ===== ===== ===== ===== ===== ===== */\n",
    "def Nx(): #Nx -> Nx()\n",
    "    return numDivision ## Number of space divisions, x-direction\n",
    "def Np():\n",
    "    return numDivision ## Number of space divisions, p-direction\n",
    "\n",
    "## Following constants are set up for code readability\n",
    "numCellX = Nx() + 2 ## Number of cells, x-direction\n",
    "numCellP = Np() + 2 ## Number of cells, p-direction\n",
    "lastRealIndexX = Nx() ## Largest x-index of all non-ghost cells; deprecated\n",
    "lastRealIndexP = Np() ## Largest p-index of all non-ghost cells; deprecated\n",
    "lastGhostIndexX = Nx() + 1 ## x-index of ghost cells on the RIGHT side of domain\n",
    "lastGhostIndexP = Np() + 1 ## p-index of ghost cells on the TOP side of domain\n",
    "numGridPtX = numCellX + 1 ## Number of grid points, x-direction (including ghost cells)\n",
    "numGridPtP = numCellP + 1 ## Number of grid points, p-direction (including ghost cells)\n",
    "\n",
    "\n",
    "########## Numerical Solutions: 2D Arrays\n",
    "\n",
    "T_[numCellX][numCellP], q_[numCellX][numCellP]\n",
    "u_[numCellX][numCellP], w_[numCellX][numCellP], phix_[numCellX][numCellP]\n",
    "\n",
    "\n",
    "###### Grid Points\n",
    "\n",
    "Dx ## x step size, defined in calcGridPts()\n",
    "cellLeftDp_[numGridPtX] ## Stores the Dp values on cell left sides, defined in calcGridPts()\n",
    "\n",
    "# The following two arrays store the grid point coordinates. meshGridX stores x coord on cell\n",
    "# left sides, and meshGridP stores p coord on cell bottom-left sides\n",
    "meshGridX_[numGridPtX] # Stores x_{i-1/2,j}, independent of j\n",
    "meshGridP_[numGridPtX][numGridPtP] # Stores p_{i-1/2,j-1/2}\n",
    "\n",
    "## Calculate and store grid points coordinates in cache\n",
    "def calcGridPts():\n",
    "\tDx = (xf - x0) / Nx\n",
    "\tfor  i in range (0, numGridPtX):\n",
    "\t\tx = x0 + (i - 1) * Dx\n",
    "\t\tmeshGridX_[i] = x\n",
    "\t\tDp = ((pB_fptr)(x) - pA) / Np  ## ??? *pB_fptr\n",
    "\t\tcellLeftDp_[i] = Dp;\n",
    "\t\tfor j in range (0, numGridPtP):\n",
    "\t\t\tmeshGridP_[i][j] = pA + (j - 1) * Dp\n",
    "\t\t\ti = i + 1\n",
    "\t\t\tj = j + 1\n"
   ]
  },
  {
   "cell_type": "code",
   "execution_count": null,
   "metadata": {},
   "outputs": [],
   "source": []
  },
  {
   "cell_type": "code",
   "execution_count": null,
   "metadata": {},
   "outputs": [],
   "source": []
  },
  {
   "cell_type": "code",
   "execution_count": null,
   "metadata": {},
   "outputs": [],
   "source": []
  }
 ],
 "metadata": {
  "kernelspec": {
   "display_name": "Python 3",
   "language": "python",
   "name": "python3"
  },
  "language_info": {
   "codemirror_mode": {
    "name": "ipython",
    "version": 3
   },
   "file_extension": ".py",
   "mimetype": "text/x-python",
   "name": "python",
   "nbconvert_exporter": "python",
   "pygments_lexer": "ipython3",
   "version": "3.7.4"
  }
 },
 "nbformat": 4,
 "nbformat_minor": 2
}
